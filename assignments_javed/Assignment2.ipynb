{
  "nbformat": 4,
  "nbformat_minor": 0,
  "metadata": {
    "colab": {
      "provenance": []
    },
    "kernelspec": {
      "name": "python3",
      "display_name": "Python 3"
    },
    "language_info": {
      "name": "python"
    }
  },
  "cells": [
    {
      "cell_type": "code",
      "execution_count": 2,
      "metadata": {
        "colab": {
          "base_uri": "https://localhost:8080/",
          "height": 206
        },
        "id": "wLmupXCKKVl2",
        "outputId": "80f6a013-8528-4db2-98de-ec61e39e8f2c"
      },
      "outputs": [
        {
          "output_type": "execute_result",
          "data": {
            "text/plain": [
              "   Age Sex      BP Cholesterol  Na_to_K   Drug\n",
              "0   23   F    HIGH        HIGH   25.355  DrugY\n",
              "1   47   M     LOW        HIGH   13.093  drugC\n",
              "2   47   M     LOW        HIGH   10.114  drugC\n",
              "3   28   F  NORMAL        HIGH    7.798  drugX\n",
              "4   61   F     LOW        HIGH   18.043  DrugY"
            ],
            "text/html": [
              "\n",
              "  <div id=\"df-04337c78-29d9-496d-b556-fb91dbe5db84\">\n",
              "    <div class=\"colab-df-container\">\n",
              "      <div>\n",
              "<style scoped>\n",
              "    .dataframe tbody tr th:only-of-type {\n",
              "        vertical-align: middle;\n",
              "    }\n",
              "\n",
              "    .dataframe tbody tr th {\n",
              "        vertical-align: top;\n",
              "    }\n",
              "\n",
              "    .dataframe thead th {\n",
              "        text-align: right;\n",
              "    }\n",
              "</style>\n",
              "<table border=\"1\" class=\"dataframe\">\n",
              "  <thead>\n",
              "    <tr style=\"text-align: right;\">\n",
              "      <th></th>\n",
              "      <th>Age</th>\n",
              "      <th>Sex</th>\n",
              "      <th>BP</th>\n",
              "      <th>Cholesterol</th>\n",
              "      <th>Na_to_K</th>\n",
              "      <th>Drug</th>\n",
              "    </tr>\n",
              "  </thead>\n",
              "  <tbody>\n",
              "    <tr>\n",
              "      <th>0</th>\n",
              "      <td>23</td>\n",
              "      <td>F</td>\n",
              "      <td>HIGH</td>\n",
              "      <td>HIGH</td>\n",
              "      <td>25.355</td>\n",
              "      <td>DrugY</td>\n",
              "    </tr>\n",
              "    <tr>\n",
              "      <th>1</th>\n",
              "      <td>47</td>\n",
              "      <td>M</td>\n",
              "      <td>LOW</td>\n",
              "      <td>HIGH</td>\n",
              "      <td>13.093</td>\n",
              "      <td>drugC</td>\n",
              "    </tr>\n",
              "    <tr>\n",
              "      <th>2</th>\n",
              "      <td>47</td>\n",
              "      <td>M</td>\n",
              "      <td>LOW</td>\n",
              "      <td>HIGH</td>\n",
              "      <td>10.114</td>\n",
              "      <td>drugC</td>\n",
              "    </tr>\n",
              "    <tr>\n",
              "      <th>3</th>\n",
              "      <td>28</td>\n",
              "      <td>F</td>\n",
              "      <td>NORMAL</td>\n",
              "      <td>HIGH</td>\n",
              "      <td>7.798</td>\n",
              "      <td>drugX</td>\n",
              "    </tr>\n",
              "    <tr>\n",
              "      <th>4</th>\n",
              "      <td>61</td>\n",
              "      <td>F</td>\n",
              "      <td>LOW</td>\n",
              "      <td>HIGH</td>\n",
              "      <td>18.043</td>\n",
              "      <td>DrugY</td>\n",
              "    </tr>\n",
              "  </tbody>\n",
              "</table>\n",
              "</div>\n",
              "      <button class=\"colab-df-convert\" onclick=\"convertToInteractive('df-04337c78-29d9-496d-b556-fb91dbe5db84')\"\n",
              "              title=\"Convert this dataframe to an interactive table.\"\n",
              "              style=\"display:none;\">\n",
              "        \n",
              "  <svg xmlns=\"http://www.w3.org/2000/svg\" height=\"24px\"viewBox=\"0 0 24 24\"\n",
              "       width=\"24px\">\n",
              "    <path d=\"M0 0h24v24H0V0z\" fill=\"none\"/>\n",
              "    <path d=\"M18.56 5.44l.94 2.06.94-2.06 2.06-.94-2.06-.94-.94-2.06-.94 2.06-2.06.94zm-11 1L8.5 8.5l.94-2.06 2.06-.94-2.06-.94L8.5 2.5l-.94 2.06-2.06.94zm10 10l.94 2.06.94-2.06 2.06-.94-2.06-.94-.94-2.06-.94 2.06-2.06.94z\"/><path d=\"M17.41 7.96l-1.37-1.37c-.4-.4-.92-.59-1.43-.59-.52 0-1.04.2-1.43.59L10.3 9.45l-7.72 7.72c-.78.78-.78 2.05 0 2.83L4 21.41c.39.39.9.59 1.41.59.51 0 1.02-.2 1.41-.59l7.78-7.78 2.81-2.81c.8-.78.8-2.07 0-2.86zM5.41 20L4 18.59l7.72-7.72 1.47 1.35L5.41 20z\"/>\n",
              "  </svg>\n",
              "      </button>\n",
              "      \n",
              "  <style>\n",
              "    .colab-df-container {\n",
              "      display:flex;\n",
              "      flex-wrap:wrap;\n",
              "      gap: 12px;\n",
              "    }\n",
              "\n",
              "    .colab-df-convert {\n",
              "      background-color: #E8F0FE;\n",
              "      border: none;\n",
              "      border-radius: 50%;\n",
              "      cursor: pointer;\n",
              "      display: none;\n",
              "      fill: #1967D2;\n",
              "      height: 32px;\n",
              "      padding: 0 0 0 0;\n",
              "      width: 32px;\n",
              "    }\n",
              "\n",
              "    .colab-df-convert:hover {\n",
              "      background-color: #E2EBFA;\n",
              "      box-shadow: 0px 1px 2px rgba(60, 64, 67, 0.3), 0px 1px 3px 1px rgba(60, 64, 67, 0.15);\n",
              "      fill: #174EA6;\n",
              "    }\n",
              "\n",
              "    [theme=dark] .colab-df-convert {\n",
              "      background-color: #3B4455;\n",
              "      fill: #D2E3FC;\n",
              "    }\n",
              "\n",
              "    [theme=dark] .colab-df-convert:hover {\n",
              "      background-color: #434B5C;\n",
              "      box-shadow: 0px 1px 3px 1px rgba(0, 0, 0, 0.15);\n",
              "      filter: drop-shadow(0px 1px 2px rgba(0, 0, 0, 0.3));\n",
              "      fill: #FFFFFF;\n",
              "    }\n",
              "  </style>\n",
              "\n",
              "      <script>\n",
              "        const buttonEl =\n",
              "          document.querySelector('#df-04337c78-29d9-496d-b556-fb91dbe5db84 button.colab-df-convert');\n",
              "        buttonEl.style.display =\n",
              "          google.colab.kernel.accessAllowed ? 'block' : 'none';\n",
              "\n",
              "        async function convertToInteractive(key) {\n",
              "          const element = document.querySelector('#df-04337c78-29d9-496d-b556-fb91dbe5db84');\n",
              "          const dataTable =\n",
              "            await google.colab.kernel.invokeFunction('convertToInteractive',\n",
              "                                                     [key], {});\n",
              "          if (!dataTable) return;\n",
              "\n",
              "          const docLinkHtml = 'Like what you see? Visit the ' +\n",
              "            '<a target=\"_blank\" href=https://colab.research.google.com/notebooks/data_table.ipynb>data table notebook</a>'\n",
              "            + ' to learn more about interactive tables.';\n",
              "          element.innerHTML = '';\n",
              "          dataTable['output_type'] = 'display_data';\n",
              "          await google.colab.output.renderOutput(dataTable, element);\n",
              "          const docLink = document.createElement('div');\n",
              "          docLink.innerHTML = docLinkHtml;\n",
              "          element.appendChild(docLink);\n",
              "        }\n",
              "      </script>\n",
              "    </div>\n",
              "  </div>\n",
              "  "
            ]
          },
          "metadata": {},
          "execution_count": 2
        }
      ],
      "source": [
        "import pandas as pd\n",
        "import numpy as np\n",
        "import matplotlib.pyplot as plt\n",
        "import seaborn as sns\n",
        "\n",
        "df = pd.read_csv('drug200.csv')\n",
        "df.head()"
      ]
    },
    {
      "cell_type": "code",
      "source": [
        "df.head()"
      ],
      "metadata": {
        "id": "SMY2VpFIKsMs",
        "colab": {
          "base_uri": "https://localhost:8080/",
          "height": 206
        },
        "outputId": "ae531a25-4a02-4a18-f4ad-e542d08dd75b"
      },
      "execution_count": 3,
      "outputs": [
        {
          "output_type": "execute_result",
          "data": {
            "text/plain": [
              "   Age Sex      BP Cholesterol  Na_to_K   Drug\n",
              "0   23   F    HIGH        HIGH   25.355  DrugY\n",
              "1   47   M     LOW        HIGH   13.093  drugC\n",
              "2   47   M     LOW        HIGH   10.114  drugC\n",
              "3   28   F  NORMAL        HIGH    7.798  drugX\n",
              "4   61   F     LOW        HIGH   18.043  DrugY"
            ],
            "text/html": [
              "\n",
              "  <div id=\"df-f1c59780-8e12-4f66-a9ad-34adffea5fbe\">\n",
              "    <div class=\"colab-df-container\">\n",
              "      <div>\n",
              "<style scoped>\n",
              "    .dataframe tbody tr th:only-of-type {\n",
              "        vertical-align: middle;\n",
              "    }\n",
              "\n",
              "    .dataframe tbody tr th {\n",
              "        vertical-align: top;\n",
              "    }\n",
              "\n",
              "    .dataframe thead th {\n",
              "        text-align: right;\n",
              "    }\n",
              "</style>\n",
              "<table border=\"1\" class=\"dataframe\">\n",
              "  <thead>\n",
              "    <tr style=\"text-align: right;\">\n",
              "      <th></th>\n",
              "      <th>Age</th>\n",
              "      <th>Sex</th>\n",
              "      <th>BP</th>\n",
              "      <th>Cholesterol</th>\n",
              "      <th>Na_to_K</th>\n",
              "      <th>Drug</th>\n",
              "    </tr>\n",
              "  </thead>\n",
              "  <tbody>\n",
              "    <tr>\n",
              "      <th>0</th>\n",
              "      <td>23</td>\n",
              "      <td>F</td>\n",
              "      <td>HIGH</td>\n",
              "      <td>HIGH</td>\n",
              "      <td>25.355</td>\n",
              "      <td>DrugY</td>\n",
              "    </tr>\n",
              "    <tr>\n",
              "      <th>1</th>\n",
              "      <td>47</td>\n",
              "      <td>M</td>\n",
              "      <td>LOW</td>\n",
              "      <td>HIGH</td>\n",
              "      <td>13.093</td>\n",
              "      <td>drugC</td>\n",
              "    </tr>\n",
              "    <tr>\n",
              "      <th>2</th>\n",
              "      <td>47</td>\n",
              "      <td>M</td>\n",
              "      <td>LOW</td>\n",
              "      <td>HIGH</td>\n",
              "      <td>10.114</td>\n",
              "      <td>drugC</td>\n",
              "    </tr>\n",
              "    <tr>\n",
              "      <th>3</th>\n",
              "      <td>28</td>\n",
              "      <td>F</td>\n",
              "      <td>NORMAL</td>\n",
              "      <td>HIGH</td>\n",
              "      <td>7.798</td>\n",
              "      <td>drugX</td>\n",
              "    </tr>\n",
              "    <tr>\n",
              "      <th>4</th>\n",
              "      <td>61</td>\n",
              "      <td>F</td>\n",
              "      <td>LOW</td>\n",
              "      <td>HIGH</td>\n",
              "      <td>18.043</td>\n",
              "      <td>DrugY</td>\n",
              "    </tr>\n",
              "  </tbody>\n",
              "</table>\n",
              "</div>\n",
              "      <button class=\"colab-df-convert\" onclick=\"convertToInteractive('df-f1c59780-8e12-4f66-a9ad-34adffea5fbe')\"\n",
              "              title=\"Convert this dataframe to an interactive table.\"\n",
              "              style=\"display:none;\">\n",
              "        \n",
              "  <svg xmlns=\"http://www.w3.org/2000/svg\" height=\"24px\"viewBox=\"0 0 24 24\"\n",
              "       width=\"24px\">\n",
              "    <path d=\"M0 0h24v24H0V0z\" fill=\"none\"/>\n",
              "    <path d=\"M18.56 5.44l.94 2.06.94-2.06 2.06-.94-2.06-.94-.94-2.06-.94 2.06-2.06.94zm-11 1L8.5 8.5l.94-2.06 2.06-.94-2.06-.94L8.5 2.5l-.94 2.06-2.06.94zm10 10l.94 2.06.94-2.06 2.06-.94-2.06-.94-.94-2.06-.94 2.06-2.06.94z\"/><path d=\"M17.41 7.96l-1.37-1.37c-.4-.4-.92-.59-1.43-.59-.52 0-1.04.2-1.43.59L10.3 9.45l-7.72 7.72c-.78.78-.78 2.05 0 2.83L4 21.41c.39.39.9.59 1.41.59.51 0 1.02-.2 1.41-.59l7.78-7.78 2.81-2.81c.8-.78.8-2.07 0-2.86zM5.41 20L4 18.59l7.72-7.72 1.47 1.35L5.41 20z\"/>\n",
              "  </svg>\n",
              "      </button>\n",
              "      \n",
              "  <style>\n",
              "    .colab-df-container {\n",
              "      display:flex;\n",
              "      flex-wrap:wrap;\n",
              "      gap: 12px;\n",
              "    }\n",
              "\n",
              "    .colab-df-convert {\n",
              "      background-color: #E8F0FE;\n",
              "      border: none;\n",
              "      border-radius: 50%;\n",
              "      cursor: pointer;\n",
              "      display: none;\n",
              "      fill: #1967D2;\n",
              "      height: 32px;\n",
              "      padding: 0 0 0 0;\n",
              "      width: 32px;\n",
              "    }\n",
              "\n",
              "    .colab-df-convert:hover {\n",
              "      background-color: #E2EBFA;\n",
              "      box-shadow: 0px 1px 2px rgba(60, 64, 67, 0.3), 0px 1px 3px 1px rgba(60, 64, 67, 0.15);\n",
              "      fill: #174EA6;\n",
              "    }\n",
              "\n",
              "    [theme=dark] .colab-df-convert {\n",
              "      background-color: #3B4455;\n",
              "      fill: #D2E3FC;\n",
              "    }\n",
              "\n",
              "    [theme=dark] .colab-df-convert:hover {\n",
              "      background-color: #434B5C;\n",
              "      box-shadow: 0px 1px 3px 1px rgba(0, 0, 0, 0.15);\n",
              "      filter: drop-shadow(0px 1px 2px rgba(0, 0, 0, 0.3));\n",
              "      fill: #FFFFFF;\n",
              "    }\n",
              "  </style>\n",
              "\n",
              "      <script>\n",
              "        const buttonEl =\n",
              "          document.querySelector('#df-f1c59780-8e12-4f66-a9ad-34adffea5fbe button.colab-df-convert');\n",
              "        buttonEl.style.display =\n",
              "          google.colab.kernel.accessAllowed ? 'block' : 'none';\n",
              "\n",
              "        async function convertToInteractive(key) {\n",
              "          const element = document.querySelector('#df-f1c59780-8e12-4f66-a9ad-34adffea5fbe');\n",
              "          const dataTable =\n",
              "            await google.colab.kernel.invokeFunction('convertToInteractive',\n",
              "                                                     [key], {});\n",
              "          if (!dataTable) return;\n",
              "\n",
              "          const docLinkHtml = 'Like what you see? Visit the ' +\n",
              "            '<a target=\"_blank\" href=https://colab.research.google.com/notebooks/data_table.ipynb>data table notebook</a>'\n",
              "            + ' to learn more about interactive tables.';\n",
              "          element.innerHTML = '';\n",
              "          dataTable['output_type'] = 'display_data';\n",
              "          await google.colab.output.renderOutput(dataTable, element);\n",
              "          const docLink = document.createElement('div');\n",
              "          docLink.innerHTML = docLinkHtml;\n",
              "          element.appendChild(docLink);\n",
              "        }\n",
              "      </script>\n",
              "    </div>\n",
              "  </div>\n",
              "  "
            ]
          },
          "metadata": {},
          "execution_count": 3
        }
      ]
    },
    {
      "cell_type": "code",
      "source": [
        "df.isnull().sum()\n"
      ],
      "metadata": {
        "id": "XWTzEWqAKumV",
        "colab": {
          "base_uri": "https://localhost:8080/"
        },
        "outputId": "ca14c19a-a7f7-4c6e-fb2d-90db7e205d23"
      },
      "execution_count": 4,
      "outputs": [
        {
          "output_type": "execute_result",
          "data": {
            "text/plain": [
              "Age            0\n",
              "Sex            0\n",
              "BP             0\n",
              "Cholesterol    0\n",
              "Na_to_K        0\n",
              "Drug           0\n",
              "dtype: int64"
            ]
          },
          "metadata": {},
          "execution_count": 4
        }
      ]
    },
    {
      "cell_type": "code",
      "source": [
        "df.describe()\n"
      ],
      "metadata": {
        "id": "YXw2JE8fKxK7",
        "colab": {
          "base_uri": "https://localhost:8080/",
          "height": 300
        },
        "outputId": "f97a2f98-8689-485c-f725-f3086bb3b5ab"
      },
      "execution_count": 5,
      "outputs": [
        {
          "output_type": "execute_result",
          "data": {
            "text/plain": [
              "              Age     Na_to_K\n",
              "count  200.000000  200.000000\n",
              "mean    44.315000   16.084485\n",
              "std     16.544315    7.223956\n",
              "min     15.000000    6.269000\n",
              "25%     31.000000   10.445500\n",
              "50%     45.000000   13.936500\n",
              "75%     58.000000   19.380000\n",
              "max     74.000000   38.247000"
            ],
            "text/html": [
              "\n",
              "  <div id=\"df-0d83df81-b5ae-4390-8146-56677d303402\">\n",
              "    <div class=\"colab-df-container\">\n",
              "      <div>\n",
              "<style scoped>\n",
              "    .dataframe tbody tr th:only-of-type {\n",
              "        vertical-align: middle;\n",
              "    }\n",
              "\n",
              "    .dataframe tbody tr th {\n",
              "        vertical-align: top;\n",
              "    }\n",
              "\n",
              "    .dataframe thead th {\n",
              "        text-align: right;\n",
              "    }\n",
              "</style>\n",
              "<table border=\"1\" class=\"dataframe\">\n",
              "  <thead>\n",
              "    <tr style=\"text-align: right;\">\n",
              "      <th></th>\n",
              "      <th>Age</th>\n",
              "      <th>Na_to_K</th>\n",
              "    </tr>\n",
              "  </thead>\n",
              "  <tbody>\n",
              "    <tr>\n",
              "      <th>count</th>\n",
              "      <td>200.000000</td>\n",
              "      <td>200.000000</td>\n",
              "    </tr>\n",
              "    <tr>\n",
              "      <th>mean</th>\n",
              "      <td>44.315000</td>\n",
              "      <td>16.084485</td>\n",
              "    </tr>\n",
              "    <tr>\n",
              "      <th>std</th>\n",
              "      <td>16.544315</td>\n",
              "      <td>7.223956</td>\n",
              "    </tr>\n",
              "    <tr>\n",
              "      <th>min</th>\n",
              "      <td>15.000000</td>\n",
              "      <td>6.269000</td>\n",
              "    </tr>\n",
              "    <tr>\n",
              "      <th>25%</th>\n",
              "      <td>31.000000</td>\n",
              "      <td>10.445500</td>\n",
              "    </tr>\n",
              "    <tr>\n",
              "      <th>50%</th>\n",
              "      <td>45.000000</td>\n",
              "      <td>13.936500</td>\n",
              "    </tr>\n",
              "    <tr>\n",
              "      <th>75%</th>\n",
              "      <td>58.000000</td>\n",
              "      <td>19.380000</td>\n",
              "    </tr>\n",
              "    <tr>\n",
              "      <th>max</th>\n",
              "      <td>74.000000</td>\n",
              "      <td>38.247000</td>\n",
              "    </tr>\n",
              "  </tbody>\n",
              "</table>\n",
              "</div>\n",
              "      <button class=\"colab-df-convert\" onclick=\"convertToInteractive('df-0d83df81-b5ae-4390-8146-56677d303402')\"\n",
              "              title=\"Convert this dataframe to an interactive table.\"\n",
              "              style=\"display:none;\">\n",
              "        \n",
              "  <svg xmlns=\"http://www.w3.org/2000/svg\" height=\"24px\"viewBox=\"0 0 24 24\"\n",
              "       width=\"24px\">\n",
              "    <path d=\"M0 0h24v24H0V0z\" fill=\"none\"/>\n",
              "    <path d=\"M18.56 5.44l.94 2.06.94-2.06 2.06-.94-2.06-.94-.94-2.06-.94 2.06-2.06.94zm-11 1L8.5 8.5l.94-2.06 2.06-.94-2.06-.94L8.5 2.5l-.94 2.06-2.06.94zm10 10l.94 2.06.94-2.06 2.06-.94-2.06-.94-.94-2.06-.94 2.06-2.06.94z\"/><path d=\"M17.41 7.96l-1.37-1.37c-.4-.4-.92-.59-1.43-.59-.52 0-1.04.2-1.43.59L10.3 9.45l-7.72 7.72c-.78.78-.78 2.05 0 2.83L4 21.41c.39.39.9.59 1.41.59.51 0 1.02-.2 1.41-.59l7.78-7.78 2.81-2.81c.8-.78.8-2.07 0-2.86zM5.41 20L4 18.59l7.72-7.72 1.47 1.35L5.41 20z\"/>\n",
              "  </svg>\n",
              "      </button>\n",
              "      \n",
              "  <style>\n",
              "    .colab-df-container {\n",
              "      display:flex;\n",
              "      flex-wrap:wrap;\n",
              "      gap: 12px;\n",
              "    }\n",
              "\n",
              "    .colab-df-convert {\n",
              "      background-color: #E8F0FE;\n",
              "      border: none;\n",
              "      border-radius: 50%;\n",
              "      cursor: pointer;\n",
              "      display: none;\n",
              "      fill: #1967D2;\n",
              "      height: 32px;\n",
              "      padding: 0 0 0 0;\n",
              "      width: 32px;\n",
              "    }\n",
              "\n",
              "    .colab-df-convert:hover {\n",
              "      background-color: #E2EBFA;\n",
              "      box-shadow: 0px 1px 2px rgba(60, 64, 67, 0.3), 0px 1px 3px 1px rgba(60, 64, 67, 0.15);\n",
              "      fill: #174EA6;\n",
              "    }\n",
              "\n",
              "    [theme=dark] .colab-df-convert {\n",
              "      background-color: #3B4455;\n",
              "      fill: #D2E3FC;\n",
              "    }\n",
              "\n",
              "    [theme=dark] .colab-df-convert:hover {\n",
              "      background-color: #434B5C;\n",
              "      box-shadow: 0px 1px 3px 1px rgba(0, 0, 0, 0.15);\n",
              "      filter: drop-shadow(0px 1px 2px rgba(0, 0, 0, 0.3));\n",
              "      fill: #FFFFFF;\n",
              "    }\n",
              "  </style>\n",
              "\n",
              "      <script>\n",
              "        const buttonEl =\n",
              "          document.querySelector('#df-0d83df81-b5ae-4390-8146-56677d303402 button.colab-df-convert');\n",
              "        buttonEl.style.display =\n",
              "          google.colab.kernel.accessAllowed ? 'block' : 'none';\n",
              "\n",
              "        async function convertToInteractive(key) {\n",
              "          const element = document.querySelector('#df-0d83df81-b5ae-4390-8146-56677d303402');\n",
              "          const dataTable =\n",
              "            await google.colab.kernel.invokeFunction('convertToInteractive',\n",
              "                                                     [key], {});\n",
              "          if (!dataTable) return;\n",
              "\n",
              "          const docLinkHtml = 'Like what you see? Visit the ' +\n",
              "            '<a target=\"_blank\" href=https://colab.research.google.com/notebooks/data_table.ipynb>data table notebook</a>'\n",
              "            + ' to learn more about interactive tables.';\n",
              "          element.innerHTML = '';\n",
              "          dataTable['output_type'] = 'display_data';\n",
              "          await google.colab.output.renderOutput(dataTable, element);\n",
              "          const docLink = document.createElement('div');\n",
              "          docLink.innerHTML = docLinkHtml;\n",
              "          element.appendChild(docLink);\n",
              "        }\n",
              "      </script>\n",
              "    </div>\n",
              "  </div>\n",
              "  "
            ]
          },
          "metadata": {},
          "execution_count": 5
        }
      ]
    },
    {
      "cell_type": "code",
      "source": [
        "sns.boxplot(df.Age)"
      ],
      "metadata": {
        "id": "qVKjSLYpKzod",
        "colab": {
          "base_uri": "https://localhost:8080/",
          "height": 448
        },
        "outputId": "7ab1c178-3a2f-4d10-bb97-56a41ebcff0e"
      },
      "execution_count": 6,
      "outputs": [
        {
          "output_type": "execute_result",
          "data": {
            "text/plain": [
              "<Axes: >"
            ]
          },
          "metadata": {},
          "execution_count": 6
        },
        {
          "output_type": "display_data",
          "data": {
            "text/plain": [
              "<Figure size 640x480 with 1 Axes>"
            ],
            "image/png": "[encoded data removed]"
          },
          "metadata": {}
        }
      ]
    },
    {
      "cell_type": "code",
      "source": [
        "sns.boxplot(df.Na_to_K)\n"
      ],
      "metadata": {
        "id": "9APveX7IK1Zi",
        "colab": {
          "base_uri": "https://localhost:8080/",
          "height": 448
        },
        "outputId": "06c5f35e-d5d9-4ccf-c74d-25bfbcaca1b1"
      },
      "execution_count": 7,
      "outputs": [
        {
          "output_type": "execute_result",
          "data": {
            "text/plain": [
              "<Axes: >"
            ]
          },
          "metadata": {},
          "execution_count": 7
        },
        {
          "output_type": "display_data",
          "data": {
            "text/plain": [
              "<Figure size 640x480 with 1 Axes>"
            ],
            "image/png": "[encoded data removed]"
          },
          "metadata": {}
        }
      ]
    },
    {
      "cell_type": "code",
      "source": [
        "print(df.Na_to_K.mean())\n",
        "q1 = df.Na_to_K.quantile(.25)\n",
        "q3 = df.Na_to_K.quantile(.75)\n",
        "IQR = q3-q1\n",
        "uppeer_limit = q3+1.5*IQR\n",
        "sns.distplot(df.Na_to_K)"
      ],
      "metadata": {
        "id": "mafjqBZDK3kE",
        "colab": {
          "base_uri": "https://localhost:8080/",
          "height": 681
        },
        "outputId": "700db5d0-907b-48e0-d0d6-12065216c6c3"
      },
      "execution_count": 8,
      "outputs": [
        {
          "output_type": "stream",
          "name": "stdout",
          "text": [
            "16.084485\n"
          ]
        },
        {
          "output_type": "stream",
          "name": "stderr",
          "text": [
            "<ipython-input-8-fe690e7cd8dc>:6: UserWarning: \n",
            "\n",
            "`distplot` is a deprecated function and will be removed in seaborn v0.14.0.\n",
            "\n",
            "Please adapt your code to use either `displot` (a figure-level function with\n",
            "similar flexibility) or `histplot` (an axes-level function for histograms).\n",
            "\n",
            "For a guide to updating your code to use the new functions, please see\n",
            "https://gist.github.com/mwaskom/de44147ed2974457ad6372750bbe5751\n",
            "\n",
            "  sns.distplot(df.Na_to_K)\n"
          ]
        },
        {
          "output_type": "execute_result",
          "data": {
            "text/plain": [
              "<Axes: xlabel='Na_to_K', ylabel='Density'>"
            ]
          },
          "metadata": {},
          "execution_count": 8
        },
        {
          "output_type": "display_data",
          "data": {
            "text/plain": [
              "<Figure size 640x480 with 1 Axes>"
            ],
            "image/png": "[encoded data removed]"
          },
          "metadata": {}
        }
      ]
    },
    {
      "cell_type": "code",
      "source": [
        "df['Na_to_K']= np.where(df['Na_to_K']> uppeer_limit,16.08,df['Na_to_K'])"
      ],
      "metadata": {
        "id": "i61WO2BiK5vX"
      },
      "execution_count": 9,
      "outputs": []
    },
    {
      "cell_type": "code",
      "source": [
        "sns.boxplot(df.Na_to_K)"
      ],
      "metadata": {
        "id": "UiNpvInDK7l1",
        "colab": {
          "base_uri": "https://localhost:8080/",
          "height": 448
        },
        "outputId": "1a0ea896-cb13-4d5a-9d29-b0291e32c153"
      },
      "execution_count": 10,
      "outputs": [
        {
          "output_type": "execute_result",
          "data": {
            "text/plain": [
              "<Axes: >"
            ]
          },
          "metadata": {},
          "execution_count": 10
        },
        {
          "output_type": "display_data",
          "data": {
            "text/plain": [
              "<Figure size 640x480 with 1 Axes>"
            ],
            "image/png": "[encoded data removed]"
          },
          "metadata": {}
        }
      ]
    },
    {
      "cell_type": "code",
      "source": [
        "x = df.iloc[:,0:4]\n",
        "x['Sex'] = x['Sex'].replace({'M':0, 'F':1})\n",
        "x['BP'] = x['BP'].replace({'HIGH':2, 'LOW':0,'NORMAL':1})\n",
        "x['Cholesterol'] = x['Cholesterol'].replace({'HIGH':1,'NORMAL':0})\n",
        "#x = np.asarray(x).astype('float32')\n",
        "#x = x.values\n",
        "from sklearn.preprocessing import LabelEncoder\n",
        "le = LabelEncoder()\n",
        "y = le.fit_transform(df.iloc[:,5:])\n",
        "y"
      ],
      "metadata": {
        "id": "4czy2vzzLH-j",
        "colab": {
          "base_uri": "https://localhost:8080/"
        },
        "outputId": "75454b18-1a22-4369-c067-d3738adf86ac"
      },
      "execution_count": 11,
      "outputs": [
        {
          "output_type": "stream",
          "name": "stderr",
          "text": [
            "/usr/local/lib/python3.10/dist-packages/sklearn/preprocessing/_label.py:116: DataConversionWarning: A column-vector y was passed when a 1d array was expected. Please change the shape of y to (n_samples, ), for example using ravel().\n",
            "  y = column_or_1d(y, warn=True)\n"
          ]
        },
        {
          "output_type": "execute_result",
          "data": {
            "text/plain": [
              "array([0, 3, 3, 4, 0, 4, 0, 3, 0, 0, 3, 0, 0, 0, 4, 0, 4, 1, 3, 0, 0, 0,\n",
              "       0, 0, 0, 0, 0, 4, 0, 0, 4, 2, 4, 0, 4, 4, 1, 4, 4, 4, 0, 2, 0, 4,\n",
              "       4, 4, 1, 3, 0, 0, 0, 4, 0, 0, 2, 3, 2, 0, 4, 0, 0, 1, 0, 4, 2, 0,\n",
              "       1, 4, 0, 0, 2, 0, 4, 0, 0, 0, 1, 0, 1, 4, 2, 4, 3, 1, 3, 2, 4, 0,\n",
              "       0, 0, 0, 0, 0, 0, 0, 4, 0, 0, 0, 0, 1, 1, 3, 4, 0, 4, 4, 0, 2, 0,\n",
              "       1, 4, 4, 4, 4, 0, 4, 4, 1, 0, 0, 0, 0, 0, 2, 0, 0, 4, 0, 4, 0, 0,\n",
              "       4, 0, 0, 4, 2, 1, 2, 4, 1, 0, 2, 0, 1, 4, 4, 1, 4, 3, 1, 2, 4, 4,\n",
              "       0, 3, 1, 0, 3, 4, 4, 2, 4, 0, 0, 0, 0, 4, 0, 1, 4, 4, 0, 0, 1, 0,\n",
              "       1, 0, 0, 0, 0, 4, 4, 0, 0, 0, 2, 1, 0, 0, 0, 1, 0, 3, 0, 3, 3, 4,\n",
              "       4, 4])"
            ]
          },
          "metadata": {},
          "execution_count": 11
        }
      ]
    },
    {
      "cell_type": "code",
      "source": [
        "from sklearn.model_selection import train_test_split\n",
        "xtrain,xtest,ytrain,ytest = train_test_split(x,y,test_size=0.2,random_state=12)"
      ],
      "metadata": {
        "id": "arStwoioLM1-"
      },
      "execution_count": 12,
      "outputs": []
    },
    {
      "cell_type": "markdown",
      "source": [
        "Bulding ANN model"
      ],
      "metadata": {
        "id": "gbo4p2e9Lack"
      }
    },
    {
      "cell_type": "code",
      "source": [
        "from tensorflow.keras.models import Sequential\n",
        "from tensorflow.keras.layers import Dense\n",
        "\n",
        "model = Sequential()\n",
        "model.add(Dense(8,input_dim = 4,activation = 'relu'))\n",
        "model.add(Dense(64,activation = 'relu'))\n",
        "model.add(Dense(32,activation = 'relu'))\n",
        "model.add(Dense(16,activation = 'relu'))\n",
        "model.add(Dense(5,activation = 'softmax'))"
      ],
      "metadata": {
        "id": "xEV71i1mLcub"
      },
      "execution_count": 13,
      "outputs": []
    },
    {
      "cell_type": "code",
      "source": [
        "model.compile(optimizer = 'adam',loss = 'sparse_categorical_crossentropy',metrics = ['accuracy'])"
      ],
      "metadata": {
        "id": "-E4bpGDBNsSj"
      },
      "execution_count": 14,
      "outputs": []
    },
    {
      "cell_type": "code",
      "source": [
        "ytrain.shape"
      ],
      "metadata": {
        "id": "nVX5pG1DS1RI",
        "colab": {
          "base_uri": "https://localhost:8080/"
        },
        "outputId": "e60675a7-cf6f-47ca-e974-7690bb2a8aff"
      },
      "execution_count": 15,
      "outputs": [
        {
          "output_type": "execute_result",
          "data": {
            "text/plain": [
              "(160,)"
            ]
          },
          "metadata": {},
          "execution_count": 15
        }
      ]
    },
    {
      "cell_type": "code",
      "source": [
        "model.fit(xtrain,ytrain,batch_size=5,epochs=66,validation_data=(xtest,ytest))"
      ],
      "metadata": {
        "id": "duQ1hiTzOI7n",
        "colab": {
          "base_uri": "https://localhost:8080/"
        },
        "outputId": "9bdd50b0-619c-45db-8579-9d4984a26e2c"
      },
      "execution_count": 16,
      "outputs": [
        {
          "output_type": "stream",
          "name": "stdout",
          "text": [
            "Epoch 1/66\n",
            "32/32 [==============================] - 2s 10ms/step - loss: 2.1681 - accuracy: 0.1688 - val_loss: 1.4324 - val_accuracy: 0.4000\n",
            "Epoch 2/66\n",
            "32/32 [==============================] - 0s 3ms/step - loss: 1.4093 - accuracy: 0.4688 - val_loss: 1.4320 - val_accuracy: 0.4000\n",
            "Epoch 3/66\n",
            "32/32 [==============================] - 0s 3ms/step - loss: 1.3462 - accuracy: 0.4688 - val_loss: 1.3281 - val_accuracy: 0.4000\n",
            "Epoch 4/66\n",
            "32/32 [==============================] - 0s 3ms/step - loss: 1.3845 - accuracy: 0.4187 - val_loss: 1.3829 - val_accuracy: 0.4000\n",
            "Epoch 5/66\n",
            "32/32 [==============================] - 0s 3ms/step - loss: 1.3156 - accuracy: 0.4688 - val_loss: 1.3248 - val_accuracy: 0.4000\n",
            "Epoch 6/66\n",
            "32/32 [==============================] - 0s 3ms/step - loss: 1.2846 - accuracy: 0.4437 - val_loss: 1.2619 - val_accuracy: 0.5250\n",
            "Epoch 7/66\n",
            "32/32 [==============================] - 0s 3ms/step - loss: 1.2958 - accuracy: 0.4250 - val_loss: 1.3669 - val_accuracy: 0.4000\n",
            "Epoch 8/66\n",
            "32/32 [==============================] - 0s 3ms/step - loss: 1.2723 - accuracy: 0.4187 - val_loss: 1.3198 - val_accuracy: 0.4000\n",
            "Epoch 9/66\n",
            "32/32 [==============================] - 0s 3ms/step - loss: 1.2468 - accuracy: 0.4437 - val_loss: 1.2799 - val_accuracy: 0.4000\n",
            "Epoch 10/66\n",
            "32/32 [==============================] - 0s 3ms/step - loss: 1.2146 - accuracy: 0.4437 - val_loss: 1.2752 - val_accuracy: 0.4000\n",
            "Epoch 11/66\n",
            "32/32 [==============================] - 0s 3ms/step - loss: 1.2025 - accuracy: 0.4625 - val_loss: 1.3037 - val_accuracy: 0.4000\n",
            "Epoch 12/66\n",
            "32/32 [==============================] - 0s 4ms/step - loss: 1.1886 - accuracy: 0.4688 - val_loss: 1.1229 - val_accuracy: 0.4500\n",
            "Epoch 13/66\n",
            "32/32 [==============================] - 0s 4ms/step - loss: 1.1834 - accuracy: 0.4062 - val_loss: 1.2384 - val_accuracy: 0.3500\n",
            "Epoch 14/66\n",
            "32/32 [==============================] - 0s 4ms/step - loss: 1.1349 - accuracy: 0.4062 - val_loss: 1.1961 - val_accuracy: 0.4000\n",
            "Epoch 15/66\n",
            "32/32 [==============================] - 0s 5ms/step - loss: 1.1213 - accuracy: 0.4625 - val_loss: 1.1025 - val_accuracy: 0.4000\n",
            "Epoch 16/66\n",
            "32/32 [==============================] - 0s 5ms/step - loss: 1.0814 - accuracy: 0.4688 - val_loss: 1.1109 - val_accuracy: 0.4250\n",
            "Epoch 17/66\n",
            "32/32 [==============================] - 0s 4ms/step - loss: 1.0881 - accuracy: 0.4938 - val_loss: 0.9977 - val_accuracy: 0.4000\n",
            "Epoch 18/66\n",
            "32/32 [==============================] - 0s 4ms/step - loss: 1.0323 - accuracy: 0.4625 - val_loss: 1.1472 - val_accuracy: 0.4000\n",
            "Epoch 19/66\n",
            "32/32 [==============================] - 0s 4ms/step - loss: 1.0652 - accuracy: 0.4437 - val_loss: 1.0928 - val_accuracy: 0.4250\n",
            "Epoch 20/66\n",
            "32/32 [==============================] - 0s 4ms/step - loss: 1.0205 - accuracy: 0.4750 - val_loss: 1.0075 - val_accuracy: 0.4750\n",
            "Epoch 21/66\n",
            "32/32 [==============================] - 0s 5ms/step - loss: 0.9927 - accuracy: 0.4812 - val_loss: 1.1192 - val_accuracy: 0.4250\n",
            "Epoch 22/66\n",
            "32/32 [==============================] - 0s 4ms/step - loss: 1.0358 - accuracy: 0.4437 - val_loss: 1.1558 - val_accuracy: 0.4250\n",
            "Epoch 23/66\n",
            "32/32 [==============================] - 0s 4ms/step - loss: 0.9784 - accuracy: 0.5125 - val_loss: 0.9772 - val_accuracy: 0.4250\n",
            "Epoch 24/66\n",
            "32/32 [==============================] - 0s 4ms/step - loss: 0.9898 - accuracy: 0.4500 - val_loss: 1.0880 - val_accuracy: 0.3250\n",
            "Epoch 25/66\n",
            "32/32 [==============================] - 0s 4ms/step - loss: 0.9458 - accuracy: 0.4938 - val_loss: 0.8740 - val_accuracy: 0.5250\n",
            "Epoch 26/66\n",
            "32/32 [==============================] - 0s 4ms/step - loss: 0.9651 - accuracy: 0.4812 - val_loss: 0.8734 - val_accuracy: 0.4500\n",
            "Epoch 27/66\n",
            "32/32 [==============================] - 0s 5ms/step - loss: 0.9271 - accuracy: 0.5375 - val_loss: 0.9381 - val_accuracy: 0.4250\n",
            "Epoch 28/66\n",
            "32/32 [==============================] - 0s 6ms/step - loss: 0.9161 - accuracy: 0.5375 - val_loss: 0.8663 - val_accuracy: 0.5000\n",
            "Epoch 29/66\n",
            "32/32 [==============================] - 0s 4ms/step - loss: 0.8950 - accuracy: 0.5562 - val_loss: 0.9460 - val_accuracy: 0.3250\n",
            "Epoch 30/66\n",
            "32/32 [==============================] - 0s 4ms/step - loss: 0.9157 - accuracy: 0.5063 - val_loss: 0.9191 - val_accuracy: 0.4000\n",
            "Epoch 31/66\n",
            "32/32 [==============================] - 0s 3ms/step - loss: 0.8912 - accuracy: 0.5375 - val_loss: 0.8412 - val_accuracy: 0.6000\n",
            "Epoch 32/66\n",
            "32/32 [==============================] - 0s 4ms/step - loss: 0.8806 - accuracy: 0.5063 - val_loss: 0.9955 - val_accuracy: 0.4000\n",
            "Epoch 33/66\n",
            "32/32 [==============================] - 0s 3ms/step - loss: 0.8753 - accuracy: 0.5250 - val_loss: 0.9124 - val_accuracy: 0.4500\n",
            "Epoch 34/66\n",
            "32/32 [==============================] - 0s 3ms/step - loss: 0.8756 - accuracy: 0.5063 - val_loss: 0.9224 - val_accuracy: 0.4250\n",
            "Epoch 35/66\n",
            "32/32 [==============================] - 0s 3ms/step - loss: 0.8495 - accuracy: 0.5813 - val_loss: 0.8478 - val_accuracy: 0.4250\n",
            "Epoch 36/66\n",
            "32/32 [==============================] - 0s 3ms/step - loss: 0.8494 - accuracy: 0.5188 - val_loss: 0.8469 - val_accuracy: 0.6250\n",
            "Epoch 37/66\n",
            "32/32 [==============================] - 0s 3ms/step - loss: 0.8664 - accuracy: 0.5000 - val_loss: 0.8351 - val_accuracy: 0.6000\n",
            "Epoch 38/66\n",
            "32/32 [==============================] - 0s 4ms/step - loss: 0.8561 - accuracy: 0.5188 - val_loss: 0.8772 - val_accuracy: 0.3750\n",
            "Epoch 39/66\n",
            "32/32 [==============================] - 0s 3ms/step - loss: 0.8411 - accuracy: 0.5750 - val_loss: 0.9611 - val_accuracy: 0.3250\n",
            "Epoch 40/66\n",
            "32/32 [==============================] - 0s 3ms/step - loss: 0.8301 - accuracy: 0.5000 - val_loss: 0.9637 - val_accuracy: 0.4500\n",
            "Epoch 41/66\n",
            "32/32 [==============================] - 0s 3ms/step - loss: 0.8704 - accuracy: 0.5688 - val_loss: 0.8436 - val_accuracy: 0.5500\n",
            "Epoch 42/66\n",
            "32/32 [==============================] - 0s 3ms/step - loss: 0.8529 - accuracy: 0.4812 - val_loss: 0.9231 - val_accuracy: 0.3500\n",
            "Epoch 43/66\n",
            "32/32 [==============================] - 0s 3ms/step - loss: 0.8234 - accuracy: 0.5063 - val_loss: 0.9980 - val_accuracy: 0.3750\n",
            "Epoch 44/66\n",
            "32/32 [==============================] - 0s 4ms/step - loss: 0.8518 - accuracy: 0.5125 - val_loss: 0.9103 - val_accuracy: 0.3750\n",
            "Epoch 45/66\n",
            "32/32 [==============================] - 0s 3ms/step - loss: 0.8727 - accuracy: 0.4750 - val_loss: 0.7944 - val_accuracy: 0.6750\n",
            "Epoch 46/66\n",
            "32/32 [==============================] - 0s 3ms/step - loss: 0.8084 - accuracy: 0.4812 - val_loss: 0.8391 - val_accuracy: 0.4000\n",
            "Epoch 47/66\n",
            "32/32 [==============================] - 0s 3ms/step - loss: 0.7869 - accuracy: 0.5875 - val_loss: 0.8913 - val_accuracy: 0.3250\n",
            "Epoch 48/66\n",
            "32/32 [==============================] - 0s 3ms/step - loss: 0.7780 - accuracy: 0.5625 - val_loss: 0.7944 - val_accuracy: 0.3750\n",
            "Epoch 49/66\n",
            "32/32 [==============================] - 0s 3ms/step - loss: 0.8208 - accuracy: 0.5500 - val_loss: 0.8391 - val_accuracy: 0.6000\n",
            "Epoch 50/66\n",
            "32/32 [==============================] - 0s 3ms/step - loss: 0.7742 - accuracy: 0.5813 - val_loss: 0.9986 - val_accuracy: 0.4250\n",
            "Epoch 51/66\n",
            "32/32 [==============================] - 0s 3ms/step - loss: 0.7758 - accuracy: 0.5250 - val_loss: 0.8353 - val_accuracy: 0.4250\n",
            "Epoch 52/66\n",
            "32/32 [==============================] - 0s 3ms/step - loss: 0.8264 - accuracy: 0.5000 - val_loss: 0.7681 - val_accuracy: 0.7000\n",
            "Epoch 53/66\n",
            "32/32 [==============================] - 0s 3ms/step - loss: 0.7973 - accuracy: 0.5688 - val_loss: 0.9663 - val_accuracy: 0.3000\n",
            "Epoch 54/66\n",
            "32/32 [==============================] - 0s 3ms/step - loss: 0.7800 - accuracy: 0.5375 - val_loss: 0.8729 - val_accuracy: 0.4500\n",
            "Epoch 55/66\n",
            "32/32 [==============================] - 0s 4ms/step - loss: 0.7721 - accuracy: 0.5500 - val_loss: 0.8698 - val_accuracy: 0.4750\n",
            "Epoch 56/66\n",
            "32/32 [==============================] - 0s 3ms/step - loss: 0.8207 - accuracy: 0.5188 - val_loss: 0.7605 - val_accuracy: 0.5250\n",
            "Epoch 57/66\n",
            "32/32 [==============================] - 0s 4ms/step - loss: 0.7769 - accuracy: 0.5437 - val_loss: 0.8175 - val_accuracy: 0.4750\n",
            "Epoch 58/66\n",
            "32/32 [==============================] - 0s 3ms/step - loss: 0.7751 - accuracy: 0.5750 - val_loss: 0.8738 - val_accuracy: 0.4750\n",
            "Epoch 59/66\n",
            "32/32 [==============================] - 0s 3ms/step - loss: 0.7653 - accuracy: 0.5688 - val_loss: 0.7880 - val_accuracy: 0.4000\n",
            "Epoch 60/66\n",
            "32/32 [==============================] - 0s 3ms/step - loss: 0.7374 - accuracy: 0.5750 - val_loss: 0.8061 - val_accuracy: 0.4250\n",
            "Epoch 61/66\n",
            "32/32 [==============================] - 0s 3ms/step - loss: 0.7456 - accuracy: 0.6062 - val_loss: 0.8098 - val_accuracy: 0.4750\n",
            "Epoch 62/66\n",
            "32/32 [==============================] - 0s 3ms/step - loss: 0.7322 - accuracy: 0.6125 - val_loss: 0.8937 - val_accuracy: 0.3750\n",
            "Epoch 63/66\n",
            "32/32 [==============================] - 0s 3ms/step - loss: 0.7705 - accuracy: 0.6062 - val_loss: 0.8270 - val_accuracy: 0.5750\n",
            "Epoch 64/66\n",
            "32/32 [==============================] - 0s 3ms/step - loss: 0.8256 - accuracy: 0.5375 - val_loss: 0.7958 - val_accuracy: 0.4000\n",
            "Epoch 65/66\n",
            "32/32 [==============================] - 0s 3ms/step - loss: 0.7291 - accuracy: 0.5813 - val_loss: 0.7794 - val_accuracy: 0.4250\n",
            "Epoch 66/66\n",
            "32/32 [==============================] - 0s 3ms/step - loss: 0.7294 - accuracy: 0.5750 - val_loss: 0.8597 - val_accuracy: 0.4250\n"
          ]
        },
        {
          "output_type": "execute_result",
          "data": {
            "text/plain": [
              "<keras.callbacks.History at 0x7f35848b39a0>"
            ]
          },
          "metadata": {},
          "execution_count": 16
        }
      ]
    },
    {
      "cell_type": "code",
      "source": [
        "\n",
        "random_data = np.random.rand(1,4)\n",
        "print(random_data)\n",
        "#pred = model.predict(random_data)\n",
        "#pred"
      ],
      "metadata": {
        "id": "1eofLZnLXFIw",
        "colab": {
          "base_uri": "https://localhost:8080/"
        },
        "outputId": "68918962-6cde-4bf0-ffea-e0fc3f4ea0aa"
      },
      "execution_count": 17,
      "outputs": [
        {
          "output_type": "stream",
          "name": "stdout",
          "text": [
            "[[0.01682032 0.33729107 0.19548932 0.06239998]]\n"
          ]
        }
      ]
    },
    {
      "cell_type": "code",
      "source": [
        "pred = model.predict(random_data)"
      ],
      "metadata": {
        "colab": {
          "base_uri": "https://localhost:8080/"
        },
        "id": "-dkbEvXSqAvW",
        "outputId": "e1d581fe-a61c-4e33-f296-260c1cfb1e62"
      },
      "execution_count": 18,
      "outputs": [
        {
          "output_type": "stream",
          "name": "stdout",
          "text": [
            "1/1 [==============================] - 0s 99ms/step\n"
          ]
        }
      ]
    },
    {
      "cell_type": "code",
      "source": [
        "pred_class = np.argmax(pred)\n",
        "print('Predicted class',pred_class)"
      ],
      "metadata": {
        "colab": {
          "base_uri": "https://localhost:8080/"
        },
        "id": "IMgzD_ROqWUU",
        "outputId": "7a7b8eac-dfe4-4954-aa40-114a83f346a0"
      },
      "execution_count": 19,
      "outputs": [
        {
          "output_type": "stream",
          "name": "stdout",
          "text": [
            "Predicted class 4\n"
          ]
        }
      ]
    }
  ]
}